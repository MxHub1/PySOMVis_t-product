{
 "cells": [
  {
   "cell_type": "markdown",
   "id": "14ad2a7b",
   "metadata": {},
   "source": [
    "# SOM Coding Report\n",
    "\n",
    "## Team Members\n",
    "- Huber Maximilian [01526935]\n",
    "- Süss Maximilian [12225947]\n",
    "\n",
    "## Public Repository \n",
    "https://github.com/MxHub1/PySOMVis_t-product.git\n",
    "\n",
    "## Abstract\n",
    "The work addresses the visualization of a **topographic product (TP)** of a self organising map (SOM) by using and extending the public python repository PySOMVis on Github. To evaluate the results of this project, data and reference code from the Java SOMToolBox is used. The visualizations are tested and validated using the chainlink as well as the 10-cluster datasets which contain relevant files to train a new SOM as well as to verify a already trained map in order to verify the correctness of a reference implementation. After executing the visualizations of the provided trained maps, new SOMs of dimension 10x10 as well as 100x60 are trained and the topografic product calculated and visualized accordingly. "
   ]
  },
  {
   "cell_type": "markdown",
   "id": "9dcfcc62",
   "metadata": {},
   "source": [
    "## Preparation \n",
    "The following code handles the necessary imports as well as imports the necessary data for the chainlink as well as 10-cluster dataset (Input vectors and weights)."
   ]
  },
  {
   "cell_type": "code",
   "execution_count": null,
   "id": "25fcac852936cfe7",
   "metadata": {
    "ExecuteTime": {
     "end_time": "2024-01-25T15:35:09.697537788Z",
     "start_time": "2024-01-25T15:35:09.685196532Z"
    },
    "collapsed": false
   },
   "outputs": [],
   "source": [
    "# OS agnostic file paths for the chainlink and 10-cluster datasets\n",
    "\n",
    "import os\n",
    "\n",
    "chainlink_idata_path = os.path.join(\"datasets\", \"chainlink\", \"chainlink.vec\")\n",
    "chainlink_weights_path = os.path.join(\"datasets\", \"chainlink\", \"chainlink.wgt.gz\")\n",
    "\n",
    "ten_cluster_idata_path = os.path.join(\"datasets\", \"10clusters\", \"10clusters.vec\")\n",
    "ten_cluster_weights_path = os.path.join(\"datasets\", \"10clusters\", \"10clusters.wgt.gz\")"
   ]
  },
  {
   "cell_type": "code",
   "execution_count": null,
   "id": "a7c286f6",
   "metadata": {
    "ExecuteTime": {
     "end_time": "2024-01-25T15:35:11.812361838Z",
     "start_time": "2024-01-25T15:35:11.749443900Z"
    }
   },
   "outputs": [],
   "source": [
    "# Parse provided dataset files using the SOMToolbox Parser\n",
    "\n",
    "from SOMToolBox_Parse import SOMToolBox_Parse\n",
    "\n",
    "chainlink_idata = SOMToolBox_Parse(chainlink_idata_path).read_weight_file()\n",
    "chainlink_weights = SOMToolBox_Parse(chainlink_weights_path).read_weight_file()\n",
    "\n",
    "ten_cluster_idata = SOMToolBox_Parse(ten_cluster_idata_path).read_weight_file()\n",
    "ten_cluster_weights = SOMToolBox_Parse(ten_cluster_weights_path).read_weight_file()"
   ]
  },
  {
   "cell_type": "code",
   "execution_count": null,
   "id": "a9872f41",
   "metadata": {},
   "outputs": [],
   "source": [
    "import holoviews as hv\n",
    "from holoviews import opts\n",
    "from coding_assignment import TopoProd\n",
    "import seaborn as sns\n",
    "import matplotlib.pyplot as plt\n",
    "\n",
    "hv.extension('bokeh')"
   ]
  },
  {
   "cell_type": "markdown",
   "id": "c2204373",
   "metadata": {},
   "source": [
    "## Visualization of Topographic Product for provided SOMs\n",
    "This section contains the visualizations of the provided datasets containing the pre-trained SOMs which are originating in the SOMToolBox for the chainlink dataset as well as the 10-cluster dataset. The provided input vectors as well as weights are imported and parsed using the SOMToolbox parser. Multiple visualizations are created by adapting the parameter configuration for the visualization. With the topographic product there is only the parameter 'k' which represents the size of the neared neighbours of a unit. Therefore we have chosen the following values for k to compare the outputs of the corresponding visualizations:\n",
    "- k = 1\n",
    "- k = 2\n",
    "- k = 4\n",
    "- k = |weights| - 1 (number of weights - 1)\n",
    "\n",
    "For the first visualizations of the topographic product using the pre-trained SOMs we have chosen to compare two different kinds of visualization and color palattes in order to be able extract more information as well as to prevent effects of colour blindness. Later in the report we sticked to grayscale-only so as not to overload the document with redundant visualisations."
   ]
  },
  {
   "cell_type": "markdown",
   "id": "5e01189b",
   "metadata": {},
   "source": [
    "### Chainlink TP for pre-trained SOM"
   ]
  },
  {
   "cell_type": "markdown",
   "id": "530d8201",
   "metadata": {},
   "source": [
    "#### TP for k=1"
   ]
  },
  {
   "cell_type": "code",
   "execution_count": null,
   "id": "72c32c12",
   "metadata": {
    "ExecuteTime": {
     "end_time": "2024-01-25T15:35:19.949723709Z",
     "start_time": "2024-01-25T15:35:15.920790358Z"
    }
   },
   "outputs": [],
   "source": [
    "# Calculating the topographic product\n",
    "p = TopoProd(chainlink_weights['ydim'], chainlink_weights['xdim'], chainlink_weights['arr'], k=1)\n",
    "\n",
    "p1 = p[..., 0] # Distortion in input space\n",
    "p2 = p[..., 1] # Distortion in output space\n",
    "p3 = p[..., 2] # Geometric mean between p1 and p2\n",
    "\n",
    "# Plotting of the topographic product\n",
    "h_p1 = hv.Image(p1).opts(xaxis=None, yaxis=None)\n",
    "h_p2 = hv.Image(p2).opts(xaxis=None, yaxis=None)\n",
    "h_p3 = hv.Image(p3).opts(xaxis=None, yaxis=None)\n",
    "\n",
    "hv.Layout([\n",
    "    h_p1.relabel('Chainlink TopoProd P1').opts(cmap='gray'),\n",
    "    h_p2.relabel('Chainlink TopoProd P2').opts(cmap='gray'),\n",
    "    h_p3.relabel('Chainlink TopoProd P3').opts(cmap='gray'),\n",
    "])"
   ]
  },
  {
   "cell_type": "markdown",
   "id": "4b25a181",
   "metadata": {},
   "source": [
    "#### TP for k=2"
   ]
  },
  {
   "cell_type": "code",
   "execution_count": null,
   "id": "a0c93d7f",
   "metadata": {},
   "outputs": [],
   "source": [
    "# Calculating the topographic product\n",
    "p = TopoProd(chainlink_weights['ydim'], chainlink_weights['xdim'], chainlink_weights['arr'], k=2)\n",
    "\n",
    "p1 = p[..., 0] # Distortion in input space\n",
    "p2 = p[..., 1] # Distortion in output space\n",
    "p3 = p[..., 2] # Geometric mean between p1 and p2\n",
    "\n",
    "# Plotting of the topographic product\n",
    "h_p1 = hv.Image(p1).opts(xaxis=None, yaxis=None)\n",
    "h_p2 = hv.Image(p2).opts(xaxis=None, yaxis=None)\n",
    "h_p3 = hv.Image(p3).opts(xaxis=None, yaxis=None)\n",
    "\n",
    "hv.Layout([\n",
    "    h_p1.relabel('Chainlink TopoProd P1').opts(cmap='gray'),\n",
    "    h_p2.relabel('Chainlink TopoProd P2').opts(cmap='gray'),\n",
    "    h_p3.relabel('Chainlink TopoProd P3').opts(cmap='gray'),\n",
    "])"
   ]
  },
  {
   "cell_type": "markdown",
   "id": "f02383d5",
   "metadata": {},
   "source": [
    "#### TP for k=4"
   ]
  },
  {
   "cell_type": "code",
   "execution_count": null,
   "id": "18a0c01a",
   "metadata": {},
   "outputs": [],
   "source": [
    "# Calculating the topographic product\n",
    "p = TopoProd(chainlink_weights['ydim'], chainlink_weights['xdim'], chainlink_weights['arr'], k=4)\n",
    "\n",
    "p1 = p[..., 0] # Distortion in input space\n",
    "p2 = p[..., 1] # Distortion in output space\n",
    "p3 = p[..., 2] # Geometric mean between p1 and p2\n",
    "\n",
    "# Plotting of the topographic product\n",
    "h_p1 = hv.Image(p1).opts(xaxis=None, yaxis=None)\n",
    "h_p2 = hv.Image(p2).opts(xaxis=None, yaxis=None)\n",
    "h_p3 = hv.Image(p3).opts(xaxis=None, yaxis=None)\n",
    "\n",
    "hv.Layout([\n",
    "    h_p1.relabel('Chainlink TopoProd P1').opts(cmap='gray'),\n",
    "    h_p2.relabel('Chainlink TopoProd P2').opts(cmap='gray'),\n",
    "    h_p3.relabel('Chainlink TopoProd P3').opts(cmap='gray'),\n",
    "])"
   ]
  },
  {
   "cell_type": "markdown",
   "id": "76e5c4da",
   "metadata": {},
   "source": [
    "#### TP for k = |weights| - 1"
   ]
  },
  {
   "cell_type": "code",
   "execution_count": null,
   "id": "f38a3857",
   "metadata": {},
   "outputs": [],
   "source": [
    "# Calculating the topographic product\n",
    "p = TopoProd(chainlink_weights['ydim'], chainlink_weights['xdim'], chainlink_weights['arr'])\n",
    "\n",
    "p1 = p[..., 0] # Distortion in input space\n",
    "p2 = p[..., 1] # Distortion in output space\n",
    "p3 = p[..., 2] # Geometric mean between p1 and p2\n",
    "\n",
    "# Plotting of the topographic product\n",
    "h_p1 = hv.Image(p1).opts(xaxis=None, yaxis=None)\n",
    "h_p2 = hv.Image(p2).opts(xaxis=None, yaxis=None)\n",
    "h_p3 = hv.Image(p3).opts(xaxis=None, yaxis=None)\n",
    "\n",
    "hv.Layout([\n",
    "    h_p1.relabel('Chainlink TopoProd P1').opts(cmap='gray'),\n",
    "    h_p2.relabel('Chainlink TopoProd P2').opts(cmap='gray'),\n",
    "    h_p3.relabel('Chainlink TopoProd P3').opts(cmap='gray'),\n",
    "])"
   ]
  },
  {
   "cell_type": "markdown",
   "id": "ed0fa3ca",
   "metadata": {},
   "source": [
    "### 10-cluster TP for pre-trained SOM"
   ]
  },
  {
   "cell_type": "markdown",
   "id": "06b53247",
   "metadata": {},
   "source": [
    "#### TP for k=1"
   ]
  },
  {
   "cell_type": "code",
   "execution_count": null,
   "id": "b4ea2be0",
   "metadata": {},
   "outputs": [],
   "source": [
    "# Calculating the topographic product\n",
    "p = TopoProd(ten_cluster_weights['ydim'], ten_cluster_weights['xdim'], ten_cluster_weights['arr'], k=1)\n",
    "\n",
    "p1 = p[..., 0] # Distortion in input space\n",
    "p2 = p[..., 1] # Distortion in output space\n",
    "p3 = p[..., 2] # Geometric mean between p1 and p2\n",
    "\n",
    "# Plotting of the topographic product\n",
    "h_p1 = hv.Image(p1).opts(xaxis=None, yaxis=None)\n",
    "h_p2 = hv.Image(p2).opts(xaxis=None, yaxis=None)\n",
    "h_p3 = hv.Image(p3).opts(xaxis=None, yaxis=None)\n",
    "\n",
    "hv.Layout([\n",
    "    h_p1.relabel('10-cluster TopoProd P1').opts(cmap='gray'),\n",
    "    h_p2.relabel('10-cluster TopoProd P2').opts(cmap='gray'),\n",
    "    h_p3.relabel('10-cluster TopoProd P3').opts(cmap='gray'),\n",
    "])"
   ]
  },
  {
   "cell_type": "markdown",
   "id": "86cff0d4",
   "metadata": {},
   "source": [
    "#### TP for k=2"
   ]
  },
  {
   "cell_type": "code",
   "execution_count": null,
   "id": "ea1ea396",
   "metadata": {},
   "outputs": [],
   "source": [
    "# Calculating the topographic product\n",
    "p = TopoProd(ten_cluster_weights['ydim'], ten_cluster_weights['xdim'], ten_cluster_weights['arr'], k=2)\n",
    "\n",
    "p1 = p[..., 0] # Distortion in input space\n",
    "p2 = p[..., 1] # Distortion in output space\n",
    "p3 = p[..., 2] # Geometric mean between p1 and p2\n",
    "\n",
    "# Plotting of the topographic product\n",
    "h_p1 = hv.Image(p1).opts(xaxis=None, yaxis=None)\n",
    "h_p2 = hv.Image(p2).opts(xaxis=None, yaxis=None)\n",
    "h_p3 = hv.Image(p3).opts(xaxis=None, yaxis=None)\n",
    "\n",
    "hv.Layout([\n",
    "    h_p1.relabel('10-cluster TopoProd P1').opts(cmap='gray'),\n",
    "    h_p2.relabel('10-cluster TopoProd P2').opts(cmap='gray'),\n",
    "    h_p3.relabel('10-cluster TopoProd P3').opts(cmap='gray'),\n",
    "])"
   ]
  },
  {
   "cell_type": "markdown",
   "id": "5ff26773",
   "metadata": {},
   "source": [
    "#### TP for k=4"
   ]
  },
  {
   "cell_type": "code",
   "execution_count": null,
   "id": "d1961f90",
   "metadata": {},
   "outputs": [],
   "source": [
    "# Calculating the topographic product\n",
    "p = TopoProd(ten_cluster_weights['ydim'], ten_cluster_weights['xdim'], ten_cluster_weights['arr'], k=4)\n",
    "\n",
    "p1 = p[..., 0] # Distortion in input space\n",
    "p2 = p[..., 1] # Distortion in output space\n",
    "p3 = p[..., 2] # Geometric mean between p1 and p2\n",
    "\n",
    "# Plotting of the topographic product\n",
    "h_p1 = hv.Image(p1).opts(xaxis=None, yaxis=None)\n",
    "h_p2 = hv.Image(p2).opts(xaxis=None, yaxis=None)\n",
    "h_p3 = hv.Image(p3).opts(xaxis=None, yaxis=None)\n",
    "\n",
    "hv.Layout([\n",
    "    h_p1.relabel('10-cluster TopoProd P1').opts(cmap='gray'),\n",
    "    h_p2.relabel('10-cluster TopoProd P2').opts(cmap='gray'),\n",
    "    h_p3.relabel('10-cluster TopoProd P3').opts(cmap='gray'),\n",
    "])"
   ]
  },
  {
   "cell_type": "markdown",
   "id": "34e89a96",
   "metadata": {},
   "source": [
    "#### TP for k = |weights| - 1"
   ]
  },
  {
   "cell_type": "code",
   "execution_count": null,
   "id": "a4ade2bf",
   "metadata": {},
   "outputs": [],
   "source": [
    "# Calculating the topographic product\n",
    "p = TopoProd(ten_cluster_weights['ydim'], ten_cluster_weights['xdim'], ten_cluster_weights['arr'])\n",
    "\n",
    "p1 = p[..., 0] # Distortion in input space\n",
    "p2 = p[..., 1] # Distortion in output space\n",
    "p3 = p[..., 2] # Geometric mean between p1 and p2\n",
    "\n",
    "# Plotting of the topographic product\n",
    "h_p1 = hv.Image(p1).opts(xaxis=None, yaxis=None)\n",
    "h_p2 = hv.Image(p2).opts(xaxis=None, yaxis=None)\n",
    "h_p3 = hv.Image(p3).opts(xaxis=None, yaxis=None)\n",
    "\n",
    "hv.Layout([\n",
    "    h_p1.relabel('10-cluster TopoProd P1').opts(cmap='gray'),\n",
    "    h_p2.relabel('10-cluster TopoProd P2').opts(cmap='gray'),\n",
    "    h_p3.relabel('10-cluster TopoProd P3').opts(cmap='gray'),\n",
    "])"
   ]
  },
  {
   "cell_type": "code",
   "execution_count": null,
   "id": "a07f89a6",
   "metadata": {},
   "outputs": [],
   "source": [
    "# Visualize Topographic Product for the 10-Clusters dataset\n",
    "\n",
    "import holoviews as hv\n",
    "from holoviews import opts\n",
    "from coding_assignment import TopoProd\n",
    "import seaborn as sns\n",
    "import matplotlib.pyplot as plt\n",
    "\n",
    "hv.extension('bokeh')\n",
    "\n",
    "# Calculating the topographic product\n",
    "p = TopoProd(ten_cluster_weights['ydim'], ten_cluster_weights['xdim'], ten_cluster_weights['arr'], k=2)\n",
    "\n",
    "p1 = p[..., 0] # Distortion in input space\n",
    "p2 = p[..., 1] # Distortion in output space\n",
    "p3 = p[..., 2] # Geometric mean between p1 and p2\n",
    "\n",
    "# Plotting of the topographic product\n",
    "fig, axs = plt.subplots(ncols=3, figsize=(15, 5))\n",
    "sns.heatmap(p1, ax=axs[0])\n",
    "axs[0].set_title('10-Cluster TopoProd P1')\n",
    "sns.heatmap(p2, ax=axs[1])\n",
    "axs[1].set_title('10-Cluster TopoProd P2')\n",
    "sns.heatmap(p3, ax=axs[2])\n",
    "axs[2].set_title('10-Cluster TopoProd P3')\n",
    "plt.show()\n",
    "\n",
    "p1 = hv.Image(p1).opts(xaxis=None, yaxis=None)\n",
    "p2 = hv.Image(p2).opts(xaxis=None, yaxis=None)\n",
    "p3 = hv.Image(p3).opts(xaxis=None, yaxis=None)\n",
    "\n",
    "hv.Layout([\n",
    "    p1.relabel('10-Cluster TopoProd P1'),\n",
    "    p2.relabel('10-Cluster TopoProd P2'),\n",
    "    p3.relabel('10-Cluster TopoProd P3'),\n",
    "])"
   ]
  },
  {
   "cell_type": "code",
   "execution_count": null,
   "id": "39c5d374",
   "metadata": {},
   "outputs": [],
   "source": [
    "# Visualize Topographic Product for the 10-Clusters dataset\n",
    "\n",
    "import holoviews as hv\n",
    "from holoviews import opts\n",
    "from coding_assignment import TopoProd\n",
    "import seaborn as sns\n",
    "import matplotlib.pyplot as plt\n",
    "\n",
    "hv.extension('bokeh')\n",
    "\n",
    "# Calculating the topographic product\n",
    "p = TopoProd(ten_cluster_weights['ydim'], ten_cluster_weights['xdim'], ten_cluster_weights['arr'], k=2)\n",
    "\n",
    "p1 = p[..., 0] # Distortion in input space\n",
    "p2 = p[..., 1] # Distortion in output space\n",
    "p3 = p[..., 2] # Geometric mean between p1 and p2\n",
    "\n",
    "# Plotting of the topographic product\n",
    "fig, axs = plt.subplots(ncols=3, figsize=(15, 5))\n",
    "sns.heatmap(p1, ax=axs[0])\n",
    "axs[0].set_title('10-Cluster TopoProd P1')\n",
    "sns.heatmap(p2, ax=axs[1])\n",
    "axs[1].set_title('10-Cluster TopoProd P2')\n",
    "sns.heatmap(p3, ax=axs[2])\n",
    "axs[2].set_title('10-Cluster TopoProd P3')\n",
    "plt.show()\n",
    "\n",
    "p1 = hv.Image(p1).opts(xaxis=None, yaxis=None)\n",
    "p2 = hv.Image(p2).opts(xaxis=None, yaxis=None)\n",
    "p3 = hv.Image(p3).opts(xaxis=None, yaxis=None)\n",
    "\n",
    "hv.Layout([\n",
    "    p1.relabel('10-Cluster TopoProd P1'),\n",
    "    p2.relabel('10-Cluster TopoProd P2'),\n",
    "    p3.relabel('10-Cluster TopoProd P3'),\n",
    "])"
   ]
  },
  {
   "cell_type": "code",
   "execution_count": null,
   "id": "6ef5824c",
   "metadata": {},
   "outputs": [],
   "source": [
    "# Visualize Topographic Product for the 10-Clusters dataset\n",
    "\n",
    "import holoviews as hv\n",
    "from holoviews import opts\n",
    "from coding_assignment import TopoProd\n",
    "import seaborn as sns\n",
    "import matplotlib.pyplot as plt\n",
    "\n",
    "hv.extension('bokeh')\n",
    "\n",
    "# Calculating the topographic product\n",
    "p = TopoProd(ten_cluster_weights['ydim'], ten_cluster_weights['xdim'], ten_cluster_weights['arr'], k=2)\n",
    "\n",
    "p1 = p[..., 0] # Distortion in input space\n",
    "p2 = p[..., 1] # Distortion in output space\n",
    "p3 = p[..., 2] # Geometric mean between p1 and p2\n",
    "\n",
    "# Plotting of the topographic product\n",
    "fig, axs = plt.subplots(ncols=3, figsize=(15, 5))\n",
    "sns.heatmap(p1, ax=axs[0])\n",
    "axs[0].set_title('10-Cluster TopoProd P1')\n",
    "sns.heatmap(p2, ax=axs[1])\n",
    "axs[1].set_title('10-Cluster TopoProd P2')\n",
    "sns.heatmap(p3, ax=axs[2])\n",
    "axs[2].set_title('10-Cluster TopoProd P3')\n",
    "plt.show()\n",
    "\n",
    "p1 = hv.Image(p1).opts(xaxis=None, yaxis=None)\n",
    "p2 = hv.Image(p2).opts(xaxis=None, yaxis=None)\n",
    "p3 = hv.Image(p3).opts(xaxis=None, yaxis=None)\n",
    "\n",
    "hv.Layout([\n",
    "    p1.relabel('10-Cluster TopoProd P1'),\n",
    "    p2.relabel('10-Cluster TopoProd P2'),\n",
    "    p3.relabel('10-Cluster TopoProd P3'),\n",
    "])"
   ]
  },
  {
   "cell_type": "code",
   "execution_count": null,
   "id": "8afed261",
   "metadata": {
    "ExecuteTime": {
     "end_time": "2024-01-25T15:35:24.036196722Z",
     "start_time": "2024-01-25T15:35:22.137832552Z"
    }
   },
   "outputs": [],
   "source": [
    "# Visualize Topographic Product for the 10-Clusters dataset\n",
    "\n",
    "import holoviews as hv\n",
    "from holoviews import opts\n",
    "from coding_assignment import TopoProd\n",
    "import seaborn as sns\n",
    "import matplotlib.pyplot as plt\n",
    "\n",
    "hv.extension('bokeh')\n",
    "\n",
    "# Calculating the topographic product\n",
    "p = TopoProd(ten_cluster_weights['ydim'], ten_cluster_weights['xdim'], ten_cluster_weights['arr'], k=2)\n",
    "\n",
    "p1 = p[..., 0] # Distortion in input space\n",
    "p2 = p[..., 1] # Distortion in output space\n",
    "p3 = p[..., 2] # Geometric mean between p1 and p2\n",
    "\n",
    "# Plotting of the topographic product\n",
    "fig, axs = plt.subplots(ncols=3, figsize=(15, 5))\n",
    "sns.heatmap(p1, ax=axs[0])\n",
    "axs[0].set_title('10-Cluster TopoProd P1')\n",
    "sns.heatmap(p2, ax=axs[1])\n",
    "axs[1].set_title('10-Cluster TopoProd P2')\n",
    "sns.heatmap(p3, ax=axs[2])\n",
    "axs[2].set_title('10-Cluster TopoProd P3')\n",
    "plt.show()\n",
    "\n",
    "p1 = hv.Image(p1).opts(xaxis=None, yaxis=None)\n",
    "p2 = hv.Image(p2).opts(xaxis=None, yaxis=None)\n",
    "p3 = hv.Image(p3).opts(xaxis=None, yaxis=None)\n",
    "\n",
    "hv.Layout([\n",
    "    p1.relabel('10-Cluster TopoProd P1'),\n",
    "    p2.relabel('10-Cluster TopoProd P2'),\n",
    "    p3.relabel('10-Cluster TopoProd P3'),\n",
    "])"
   ]
  },
  {
   "cell_type": "markdown",
   "id": "447678f3",
   "metadata": {},
   "source": [
    "## Visualization of Topographic Product for self-trained SOMs\n",
    "This section contains the visualizations of the provided datasets by using self-trained SOMs of dimensions 10x10 (small) as well as 100x60(large) for the chainlink dataset as well as the 10-cluster dataset. We chose to use the MiniSom library for the SOM training with 10.000 iterations, since in our tests this did not impose large negative effects on the performance of our algorithm. The provided input vectors as well as weights are imported and parsed using the SOMToolbox parser. Multiple visualizations are created by adapting the parameter configuration for the visualization. With the topographic product there is only the parameter 'k' which represents the size of the neared neighbours of a unit. Therefore we have chosen different values for k to compare the outputs of the corresponding visualizations."
   ]
  },
  {
   "cell_type": "code",
   "execution_count": null,
   "id": "11a7acc5",
   "metadata": {},
   "outputs": [],
   "source": [
    "from minisom import MiniSom"
   ]
  },
  {
   "cell_type": "markdown",
   "id": "738ab929",
   "metadata": {},
   "source": [
    "### Small (10x10) SOM "
   ]
  },
  {
   "cell_type": "markdown",
   "id": "ba141b7a",
   "metadata": {},
   "source": [
    "#### Chainlink"
   ]
  },
  {
   "cell_type": "code",
   "execution_count": null,
   "id": "0930167e",
   "metadata": {},
   "outputs": [],
   "source": [
    "# Train 10x10 Map for Chainlink Dataset\n",
    "\n",
    "chainlink_som = MiniSom(10, 10, 3)\n",
    "chainlink_som.train(chainlink_idata['arr'], 10000)"
   ]
  },
  {
   "cell_type": "markdown",
   "id": "4bf4f023",
   "metadata": {},
   "source": [
    "##### TP for k=1"
   ]
  },
  {
   "cell_type": "code",
   "execution_count": null,
   "id": "90f084ab",
   "metadata": {},
   "outputs": [],
   "source": [
    "p = TopoProd(10, 10, chainlink_som._weights, k=1)\n",
    "\n",
    "p1 = p[..., 0] # Distortion in input space\n",
    "p2 = p[..., 1] # Distortion in output space\n",
    "p3 = p[..., 2] # Geometric mean between p1 and p2\n",
    "\n",
    "h_p1 = hv.Image(p1).opts(xaxis=None, yaxis=None)\n",
    "h_p2 = hv.Image(p2).opts(xaxis=None, yaxis=None)\n",
    "h_p3 = hv.Image(p3).opts(xaxis=None, yaxis=None)\n",
    "\n",
    "hv.Layout([\n",
    "    h_p1.relabel('Chainlink TopoProd P1').opts(cmap='gray'),\n",
    "    h_p2.relabel('Chainlink TopoProd P2').opts(cmap='gray'),\n",
    "    h_p3.relabel('Chainlink TopoProd P3').opts(cmap='gray'),\n",
    "])"
   ]
  },
  {
   "cell_type": "markdown",
   "id": "831d588d",
   "metadata": {},
   "source": [
    "##### TP for k=2"
   ]
  },
  {
   "cell_type": "code",
   "execution_count": null,
   "id": "b1de3826",
   "metadata": {},
   "outputs": [],
   "source": [
    "p = TopoProd(10, 10, chainlink_som._weights, k=2)\n",
    "\n",
    "p1 = p[..., 0] # Distortion in input space\n",
    "p2 = p[..., 1] # Distortion in output space\n",
    "p3 = p[..., 2] # Geometric mean between p1 and p2\n",
    "\n",
    "h_p1 = hv.Image(p1).opts(xaxis=None, yaxis=None)\n",
    "h_p2 = hv.Image(p2).opts(xaxis=None, yaxis=None)\n",
    "h_p3 = hv.Image(p3).opts(xaxis=None, yaxis=None)\n",
    "\n",
    "hv.Layout([\n",
    "    h_p1.relabel('Chainlink TopoProd P1').opts(cmap='gray'),\n",
    "    h_p2.relabel('Chainlink TopoProd P2').opts(cmap='gray'),\n",
    "    h_p3.relabel('Chainlink TopoProd P3').opts(cmap='gray'),\n",
    "])"
   ]
  },
  {
   "cell_type": "markdown",
   "id": "684a2c42",
   "metadata": {},
   "source": [
    "##### TP for k=4"
   ]
  },
  {
   "cell_type": "code",
   "execution_count": null,
   "id": "f7373c1c",
   "metadata": {},
   "outputs": [],
   "source": [
    "p = TopoProd(10, 10, chainlink_som._weights, k=4)\n",
    "\n",
    "p1 = p[..., 0] # Distortion in input space\n",
    "p2 = p[..., 1] # Distortion in output space\n",
    "p3 = p[..., 2] # Geometric mean between p1 and p2\n",
    "\n",
    "h_p1 = hv.Image(p1).opts(xaxis=None, yaxis=None)\n",
    "h_p2 = hv.Image(p2).opts(xaxis=None, yaxis=None)\n",
    "h_p3 = hv.Image(p3).opts(xaxis=None, yaxis=None)\n",
    "\n",
    "hv.Layout([\n",
    "    h_p1.relabel('Chainlink TopoProd P1').opts(cmap='gray'),\n",
    "    h_p2.relabel('Chainlink TopoProd P2').opts(cmap='gray'),\n",
    "    h_p3.relabel('Chainlink TopoProd P3').opts(cmap='gray'),\n",
    "])"
   ]
  },
  {
   "cell_type": "markdown",
   "id": "fac7123f",
   "metadata": {},
   "source": [
    "##### TP for k = |weights| - 1"
   ]
  },
  {
   "cell_type": "code",
   "execution_count": null,
   "id": "063bd93d",
   "metadata": {},
   "outputs": [],
   "source": [
    "p = TopoProd(10, 10, chainlink_som._weights)\n",
    "\n",
    "p1 = p[..., 0] # Distortion in input space\n",
    "p2 = p[..., 1] # Distortion in output space\n",
    "p3 = p[..., 2] # Geometric mean between p1 and p2\n",
    "\n",
    "h_p1 = hv.Image(p1).opts(xaxis=None, yaxis=None)\n",
    "h_p2 = hv.Image(p2).opts(xaxis=None, yaxis=None)\n",
    "h_p3 = hv.Image(p3).opts(xaxis=None, yaxis=None)\n",
    "\n",
    "hv.Layout([\n",
    "    h_p1.relabel('Chainlink TopoProd P1').opts(cmap='gray'),\n",
    "    h_p2.relabel('Chainlink TopoProd P2').opts(cmap='gray'),\n",
    "    h_p3.relabel('Chainlink TopoProd P3').opts(cmap='gray'),\n",
    "])"
   ]
  },
  {
   "cell_type": "markdown",
   "id": "d5e592d1",
   "metadata": {},
   "source": [
    "#### 10-cluster"
   ]
  },
  {
   "cell_type": "code",
   "execution_count": null,
   "id": "df60bab5",
   "metadata": {},
   "outputs": [],
   "source": [
    "# Train 10x10 Map for 10-Clusters Dataset\n",
    "\n",
    "ten_cluster_som = MiniSom(10, 10, 10)\n",
    "ten_cluster_som.train(ten_cluster_idata['arr'], 10000)"
   ]
  },
  {
   "cell_type": "markdown",
   "id": "ab8e7ff2",
   "metadata": {},
   "source": [
    "##### TP for k=1"
   ]
  },
  {
   "cell_type": "code",
   "execution_count": null,
   "id": "db1e99b1",
   "metadata": {},
   "outputs": [],
   "source": [
    "p = TopoProd(10, 10, ten_cluster_som._weights, k=1)\n",
    "\n",
    "p1 = p[..., 0] # Distortion in input space\n",
    "p2 = p[..., 1] # Distortion in output space\n",
    "p3 = p[..., 2] # Geometric mean between p1 and p2\n",
    "\n",
    "h_p1 = hv.Image(p1).opts(xaxis=None, yaxis=None)\n",
    "h_p2 = hv.Image(p2).opts(xaxis=None, yaxis=None)\n",
    "h_p3 = hv.Image(p3).opts(xaxis=None, yaxis=None)\n",
    "\n",
    "hv.Layout([\n",
    "    h_p1.relabel('TopoProd P1').opts(cmap='gray'),\n",
    "    h_p2.relabel('TopoProd P2').opts(cmap='gray'),\n",
    "    h_p3.relabel('TopoProd P3').opts(cmap='gray'),\n",
    "])"
   ]
  },
  {
   "cell_type": "markdown",
   "id": "55b42c30",
   "metadata": {},
   "source": [
    "##### TP for k=2"
   ]
  },
  {
   "cell_type": "code",
   "execution_count": null,
   "id": "8d6aa300",
   "metadata": {},
   "outputs": [],
   "source": [
    "p = TopoProd(10, 10, ten_cluster_som._weights, k=2)\n",
    "\n",
    "p1 = p[..., 0] # Distortion in input space\n",
    "p2 = p[..., 1] # Distortion in output space\n",
    "p3 = p[..., 2] # Geometric mean between p1 and p2\n",
    "\n",
    "h_p1 = hv.Image(p1).opts(xaxis=None, yaxis=None)\n",
    "h_p2 = hv.Image(p2).opts(xaxis=None, yaxis=None)\n",
    "h_p3 = hv.Image(p3).opts(xaxis=None, yaxis=None)\n",
    "\n",
    "hv.Layout([\n",
    "    h_p1.relabel('TopoProd P1').opts(cmap='gray'),\n",
    "    h_p2.relabel('TopoProd P2').opts(cmap='gray'),\n",
    "    h_p3.relabel('TopoProd P3').opts(cmap='gray'),\n",
    "])"
   ]
  },
  {
   "cell_type": "markdown",
   "id": "339c4a64",
   "metadata": {},
   "source": [
    "##### TP for k=4"
   ]
  },
  {
   "cell_type": "code",
   "execution_count": null,
   "id": "4cb75c3e",
   "metadata": {},
   "outputs": [],
   "source": [
    "p = TopoProd(10, 10, ten_cluster_som._weights, k=4)\n",
    "\n",
    "p1 = p[..., 0] # Distortion in input space\n",
    "p2 = p[..., 1] # Distortion in output space\n",
    "p3 = p[..., 2] # Geometric mean between p1 and p2\n",
    "\n",
    "h_p1 = hv.Image(p1).opts(xaxis=None, yaxis=None)\n",
    "h_p2 = hv.Image(p2).opts(xaxis=None, yaxis=None)\n",
    "h_p3 = hv.Image(p3).opts(xaxis=None, yaxis=None)\n",
    "\n",
    "hv.Layout([\n",
    "    h_p1.relabel('TopoProd P1').opts(cmap='gray'),\n",
    "    h_p2.relabel('TopoProd P2').opts(cmap='gray'),\n",
    "    h_p3.relabel('TopoProd P3').opts(cmap='gray'),\n",
    "])"
   ]
  },
  {
   "cell_type": "markdown",
   "id": "f64f8c71",
   "metadata": {},
   "source": [
    "##### TP for k = |weights| - 1"
   ]
  },
  {
   "cell_type": "code",
   "execution_count": null,
   "id": "6fa3f0f7",
   "metadata": {},
   "outputs": [],
   "source": [
    "p = TopoProd(10, 10, ten_cluster_som._weights)\n",
    "\n",
    "p1 = p[..., 0] # Distortion in input space\n",
    "p2 = p[..., 1] # Distortion in output space\n",
    "p3 = p[..., 2] # Geometric mean between p1 and p2\n",
    "\n",
    "h_p1 = hv.Image(p1).opts(xaxis=None, yaxis=None)\n",
    "h_p2 = hv.Image(p2).opts(xaxis=None, yaxis=None)\n",
    "h_p3 = hv.Image(p3).opts(xaxis=None, yaxis=None)\n",
    "\n",
    "hv.Layout([\n",
    "    h_p1.relabel('TopoProd P1').opts(cmap='gray'),\n",
    "    h_p2.relabel('TopoProd P2').opts(cmap='gray'),\n",
    "    h_p3.relabel('TopoProd P3').opts(cmap='gray'),\n",
    "])"
   ]
  },
  {
   "cell_type": "markdown",
   "id": "7950bd7d",
   "metadata": {},
   "source": [
    "### Large (100x60) SOM "
   ]
  },
  {
   "cell_type": "markdown",
   "id": "09e3f57a",
   "metadata": {},
   "source": [
    "#### Chainlink"
   ]
  },
  {
   "cell_type": "code",
   "execution_count": null,
   "id": "5a37d6eb",
   "metadata": {},
   "outputs": [],
   "source": [
    "# Train 100x60 Map for Chainlink Dataset\n",
    "\n",
    "chainlink_som = MiniSom(100, 60, 3)\n",
    "chainlink_som.train(chainlink_idata['arr'], 10000)"
   ]
  },
  {
   "cell_type": "markdown",
   "id": "81b8f991",
   "metadata": {},
   "source": [
    "##### TP for k=1"
   ]
  },
  {
   "cell_type": "code",
   "execution_count": null,
   "id": "9c3e7e66",
   "metadata": {},
   "outputs": [],
   "source": [
    "p = TopoProd(100, 60, chainlink_som._weights, k=1)\n",
    "\n",
    "p1 = p[..., 0] # Distortion in input space\n",
    "p2 = p[..., 1] # Distortion in output space\n",
    "p3 = p[..., 2] # Geometric mean between p1 and p2\n",
    "\n",
    "h_p1 = hv.Image(p1).opts(xaxis=None, yaxis=None)\n",
    "h_p2 = hv.Image(p2).opts(xaxis=None, yaxis=None)\n",
    "h_p3 = hv.Image(p3).opts(xaxis=None, yaxis=None)\n",
    "\n",
    "hv.Layout([\n",
    "    h_p1.relabel('Chainlink TopoProd P1').opts(cmap='gray'),\n",
    "    h_p2.relabel('Chainlink TopoProd P2').opts(cmap='gray'),\n",
    "    h_p3.relabel('Chainlink TopoProd P3').opts(cmap='gray'),\n",
    "])"
   ]
  },
  {
   "cell_type": "markdown",
   "id": "48520fca",
   "metadata": {},
   "source": [
    "##### TP for k=2"
   ]
  },
  {
   "cell_type": "code",
   "execution_count": null,
   "id": "07c45002",
   "metadata": {},
   "outputs": [],
   "source": [
    "p = TopoProd(100, 60, chainlink_som._weights, k=2)\n",
    "\n",
    "p1 = p[..., 0] # Distortion in input space\n",
    "p2 = p[..., 1] # Distortion in output space\n",
    "p3 = p[..., 2] # Geometric mean between p1 and p2\n",
    "\n",
    "h_p1 = hv.Image(p1).opts(xaxis=None, yaxis=None)\n",
    "h_p2 = hv.Image(p2).opts(xaxis=None, yaxis=None)\n",
    "h_p3 = hv.Image(p3).opts(xaxis=None, yaxis=None)\n",
    "\n",
    "hv.Layout([\n",
    "    h_p1.relabel('Chainlink TopoProd P1').opts(cmap='gray'),\n",
    "    h_p2.relabel('Chainlink TopoProd P2').opts(cmap='gray'),\n",
    "    h_p3.relabel('Chainlink TopoProd P3').opts(cmap='gray'),\n",
    "])"
   ]
  },
  {
   "cell_type": "markdown",
   "id": "578e99d2",
   "metadata": {},
   "source": [
    "##### TP for k=4"
   ]
  },
  {
   "cell_type": "code",
   "execution_count": null,
   "id": "d796c9ce",
   "metadata": {},
   "outputs": [],
   "source": [
    "p = TopoProd(100, 60, chainlink_som._weights, k=2)\n",
    "\n",
    "p1 = p[..., 0] # Distortion in input space\n",
    "p2 = p[..., 1] # Distortion in output space\n",
    "p3 = p[..., 2] # Geometric mean between p1 and p2\n",
    "\n",
    "h_p1 = hv.Image(p1).opts(xaxis=None, yaxis=None)\n",
    "h_p2 = hv.Image(p2).opts(xaxis=None, yaxis=None)\n",
    "h_p3 = hv.Image(p3).opts(xaxis=None, yaxis=None)\n",
    "\n",
    "hv.Layout([\n",
    "    h_p1.relabel('Chainlink TopoProd P1').opts(cmap='gray'),\n",
    "    h_p2.relabel('Chainlink TopoProd P2').opts(cmap='gray'),\n",
    "    h_p3.relabel('Chainlink TopoProd P3').opts(cmap='gray'),\n",
    "])"
   ]
  },
  {
   "cell_type": "markdown",
   "id": "d5240c3d",
   "metadata": {},
   "source": [
    "##### TP for k = |weights| - 1"
   ]
  },
  {
   "cell_type": "code",
   "execution_count": null,
   "id": "58af4781",
   "metadata": {},
   "outputs": [],
   "source": [
    "p = TopoProd(100, 60, chainlink_som._weights)\n",
    "\n",
    "p1 = p[..., 0] # Distortion in input space\n",
    "p2 = p[..., 1] # Distortion in output space\n",
    "p3 = p[..., 2] # Geometric mean between p1 and p2\n",
    "\n",
    "h_p1 = hv.Image(p1).opts(xaxis=None, yaxis=None)\n",
    "h_p2 = hv.Image(p2).opts(xaxis=None, yaxis=None)\n",
    "h_p3 = hv.Image(p3).opts(xaxis=None, yaxis=None)\n",
    "\n",
    "hv.Layout([\n",
    "    h_p1.relabel('Chainlink TopoProd P1').opts(cmap='gray'),\n",
    "    h_p2.relabel('Chainlink TopoProd P2').opts(cmap='gray'),\n",
    "    h_p3.relabel('Chainlink TopoProd P3').opts(cmap='gray'),\n",
    "])"
   ]
  },
  {
   "cell_type": "markdown",
   "id": "06fee170",
   "metadata": {},
   "source": [
    "#### 10-cluster"
   ]
  },
  {
   "cell_type": "code",
   "execution_count": null,
   "id": "8c6ca266",
   "metadata": {},
   "outputs": [],
   "source": [
    "# Train 100x60 Map for 10-Clusters Dataset\n",
    "\n",
    "ten_cluster_som = MiniSom(100, 60, 10)\n",
    "ten_cluster_som.train(ten_cluster_idata['arr'], 10000)"
   ]
  },
  {
   "cell_type": "markdown",
   "id": "29e4a44d",
   "metadata": {},
   "source": [
    "##### TP for k=1"
   ]
  },
  {
   "cell_type": "code",
   "execution_count": null,
   "id": "97fb5408",
   "metadata": {},
   "outputs": [],
   "source": [
    "p = TopoProd(100, 60, ten_cluster_som._weights, k=1)\n",
    "\n",
    "p1 = p[..., 0] # Distortion in input space\n",
    "p2 = p[..., 1] # Distortion in output space\n",
    "p3 = p[..., 2] # Geometric mean between p1 and p2\n",
    "\n",
    "h_p1 = hv.Image(p1).opts(xaxis=None, yaxis=None)\n",
    "h_p2 = hv.Image(p2).opts(xaxis=None, yaxis=None)\n",
    "h_p3 = hv.Image(p3).opts(xaxis=None, yaxis=None)\n",
    "\n",
    "hv.Layout([\n",
    "    h_p1.relabel('10-cluster TopoProd P1').opts(cmap='gray'),\n",
    "    h_p2.relabel('10-cluster TopoProd P2').opts(cmap='gray'),\n",
    "    h_p3.relabel('10-cluster TopoProd P3').opts(cmap='gray'),\n",
    "])"
   ]
  },
  {
   "cell_type": "markdown",
   "id": "a2e31d3b",
   "metadata": {},
   "source": [
    "##### TP for k=2"
   ]
  },
  {
   "cell_type": "code",
   "execution_count": null,
   "id": "7fc64f69",
   "metadata": {},
   "outputs": [],
   "source": [
    "p = TopoProd(100, 60, ten_cluster_som._weights, k=2)\n",
    "\n",
    "p1 = p[..., 0] # Distortion in input space\n",
    "p2 = p[..., 1] # Distortion in output space\n",
    "p3 = p[..., 2] # Geometric mean between p1 and p2\n",
    "\n",
    "h_p1 = hv.Image(p1).opts(xaxis=None, yaxis=None)\n",
    "h_p2 = hv.Image(p2).opts(xaxis=None, yaxis=None)\n",
    "h_p3 = hv.Image(p3).opts(xaxis=None, yaxis=None)\n",
    "\n",
    "hv.Layout([\n",
    "    h_p1.relabel('10-cluster TopoProd P1').opts(cmap='gray'),\n",
    "    h_p2.relabel('10-cluster TopoProd P2').opts(cmap='gray'),\n",
    "    h_p3.relabel('10-cluster TopoProd P3').opts(cmap='gray'),\n",
    "])"
   ]
  },
  {
   "cell_type": "markdown",
   "id": "42310077",
   "metadata": {},
   "source": [
    "##### TP for k=4"
   ]
  },
  {
   "cell_type": "code",
   "execution_count": null,
   "id": "cb8b7293",
   "metadata": {},
   "outputs": [],
   "source": [
    "p = TopoProd(100, 60, ten_cluster_som._weights, k=4)\n",
    "\n",
    "p1 = p[..., 0] # Distortion in input space\n",
    "p2 = p[..., 1] # Distortion in output space\n",
    "p3 = p[..., 2] # Geometric mean between p1 and p2\n",
    "\n",
    "h_p1 = hv.Image(p1).opts(xaxis=None, yaxis=None)\n",
    "h_p2 = hv.Image(p2).opts(xaxis=None, yaxis=None)\n",
    "h_p3 = hv.Image(p3).opts(xaxis=None, yaxis=None)\n",
    "\n",
    "hv.Layout([\n",
    "    h_p1.relabel('10-cluster TopoProd P1').opts(cmap='gray'),\n",
    "    h_p2.relabel('10-cluster TopoProd P2').opts(cmap='gray'),\n",
    "    h_p3.relabel('10-cluster TopoProd P3').opts(cmap='gray'),\n",
    "])"
   ]
  },
  {
   "cell_type": "markdown",
   "id": "536d4cfe",
   "metadata": {},
   "source": [
    "##### TP for k = |weights| - 1"
   ]
  },
  {
   "cell_type": "code",
   "execution_count": null,
   "id": "d00b7758d85a9da8",
   "metadata": {
    "collapsed": false
   },
   "outputs": [],
   "source": [
    "p = TopoProd(100, 60, ten_cluster_som._weights)\n",
    "\n",
    "p1 = p[..., 0] # Distortion in input space\n",
    "p2 = p[..., 1] # Distortion in output space\n",
    "p3 = p[..., 2] # Geometric mean between p1 and p2\n",
    "\n",
    "h_p1 = hv.Image(p1).opts(xaxis=None, yaxis=None)\n",
    "h_p2 = hv.Image(p2).opts(xaxis=None, yaxis=None)\n",
    "h_p3 = hv.Image(p3).opts(xaxis=None, yaxis=None)\n",
    "\n",
    "hv.Layout([\n",
    "    h_p1.relabel('10-cluster TopoProd P1').opts(cmap='gray'),\n",
    "    h_p2.relabel('10-cluster TopoProd P2').opts(cmap='gray'),\n",
    "    h_p3.relabel('10-cluster TopoProd P3').opts(cmap='gray'),\n",
    "])"
   ]
  },
  {
   "cell_type": "markdown",
   "id": "3dd82413",
   "metadata": {},
   "source": [
    "## Validation of correctness"
   ]
  },
  {
   "cell_type": "markdown",
   "id": "757f05ed",
   "metadata": {},
   "source": [
    "In order to validate, whether or not our implementation of the calculation as well as visualization of the topographic product ist correct, we compared our outcome with the results of the Java SOMToolBox (0.7.5-4 svn4367). To make the validation reproducible we compared our visualizations for the provided SOMs for the Chainlink dataset as well as the 10-cluster dataset."
   ]
  },
  {
   "cell_type": "markdown",
   "id": "dcea0b2f",
   "metadata": {},
   "source": [
    "### Comparison with Java SOMToolBox topgraphic product\n",
    "While comparing our visualizations with the ones created by the Java SOMToolBox, we found that the results of the Java SOMViewer for the pre-trained SOM were not deterministic in that it returned different visualizations of the topographic product when executed multiple times. We used the following configuration for the experiment:\n",
    "\n",
    "- SDK: Java 11\n",
    "- Javav SOMToolBox Version: 0.7.5-4 svn4367\n",
    "\n",
    "We executed the SOMViewer with the following command for the chainlink dataset (and the 10-cluster dataset accordingly), using the provided files which we downloaded from http://www.ifs.tuwien.ac.at/dm/somtoolbox/datasets.html\n",
    "\n",
    "```\n",
    "java at.tuwien.ifs.somtoolbox.apps.viewer.SOMViewer \n",
    "    -u datasets\\chainlink\\chainlink.unit\n",
    "    -w datasets\\chainlink\\chainlink.wgt\n",
    "    -v datasets\\chainlink\\chainlink.vec\n",
    "    -t datasets\\chainlink\\chainlink.tv\n",
    "    -c datasets\\chainlink\\chainlink.cls\n",
    "    -m datasets\\chainlink\\chainlink.map\n",
    "```\n",
    "\n",
    "\n",
    "We then used the user interface of the SOMViewer to generate the visualizations for the topographic error with different values for 'k'. We executed the same visualizations multiple times for each configuration of 'k' (1, 2, 4). \n",
    "Furthermore, after each execution of the topographic product, we cleared the tool's visualization cache in order to avoid unwanted side effects. To cross check on the behaviour of the tool with regards to other visualizations we tested various visualizations in the same manner (with the same input files), which were all deterministic. This brings us to the assumption that there might be some algorithmic error in the Java implementation of the topographic product of the Java SOMToolBox.\n",
    "\n",
    "The following visualization results of the topographic product when using the Java SOMToolBox were executed on static data and parameter configuration multiple times with different outcome:\n",
    "\n",
    "<table style=\"text-align: center\">\n",
    "  <tr>\n",
    "    <th style=\"text-align: center\" colspan=\"2\">Java SOMViewer Chainlink TP for k = 2</th>\n",
    "  </tr>\n",
    "  <tr>\n",
    "    <td><img width=\"300px\" src=\"./visualizations/Java_SOMToolBox_reference_visualizations/chainlink/JavaSOMTool_visualization_chainlink_TopographicProduct_k2_a.png\"></td>\n",
    "    <td><img width=\"300px\" src=\"./visualizations/Java_SOMToolBox_reference_visualizations/chainlink/JavaSOMTool_visualization_chainlink_TopographicProduct_k2_b.png\"></td>\n",
    "  </tr>\n",
    "  <tr>\n",
    "    <th style=\"text-align: center\" colspan=\"2\">Java SOMViewer Chainlink TP for k = 4</th>\n",
    "  </tr>\n",
    "  <tr>\n",
    "    <td><img width=\"300px\" src=\"./visualizations/Java_SOMToolBox_reference_visualizations/chainlink/JavaSOMTool_visualization_chainlink_TopographicProduct_k4_a.png\"></td>\n",
    "    <td><img width=\"300px\" src=\"./visualizations/Java_SOMToolBox_reference_visualizations/chainlink/JavaSOMTool_visualization_chainlink_TopographicProduct_k4_b.png\"></td>\n",
    "  </tr>\n",
    "  <tr>\n",
    "    <th style=\"text-align: center\" colspan=\"2\">Java SOMViewer 10-cluster TP for k = 2</th>\n",
    "  </tr>\n",
    "  <tr>\n",
    "    <td><img width=\"300px\" src=\"./visualizations/Java_SOMToolBox_reference_visualizations/10-cluster/JavaSOMTool_visualization_10-Cluster_TopographicProduct_k2_a.png\"></td>\n",
    "    <td><img width=\"300px\" src=\"./visualizations/Java_SOMToolBox_reference_visualizations/10-cluster/JavaSOMTool_visualization_10-Cluster_TopographicProduct_k2_b.png\"></td>\n",
    "  </tr>\n",
    "  <tr>\n",
    "    <th style=\"text-align: center\" colspan=\"2\">Java SOMViewer 10-cluster TP for k = 4</th>\n",
    "  </tr>\n",
    "  <tr>\n",
    "    <td><img width=\"300px\" src=\"./visualizations/Java_SOMToolBox_reference_visualizations/10-cluster/JavaSOMTool_visualization_10-Cluster_TopographicProduct_k4_a.png\"></td>\n",
    "    <td><img width=\"300px\" src=\"./visualizations/Java_SOMToolBox_reference_visualizations/10-cluster/JavaSOMTool_visualization_10-Cluster_TopographicProduct_k4_b.png\"></td>\n",
    "  </tr>\n",
    " </table>\n",
    "\n",
    " While there are clear visible similatities, the results of two different runs on the same data return a different visualization."
   ]
  }
 ],
 "metadata": {
  "kernelspec": {
   "display_name": "Python 3 (ipykernel)",
   "language": "python",
   "name": "python3"
  },
  "language_info": {
   "codemirror_mode": {
    "name": "ipython",
    "version": 3
   },
   "file_extension": ".py",
   "mimetype": "text/x-python",
   "name": "python",
   "nbconvert_exporter": "python",
   "pygments_lexer": "ipython3",
   "version": "3.12.0"
  }
 },
 "nbformat": 4,
 "nbformat_minor": 5
}
